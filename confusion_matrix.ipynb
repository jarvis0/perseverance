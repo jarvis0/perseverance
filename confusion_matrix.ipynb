{
 "cells": [
  {
   "cell_type": "code",
   "execution_count": 117,
   "metadata": {},
   "outputs": [],
   "source": [
    "import os\n",
    "import numpy as np\n",
    "import pandas as pd\n",
    "import matplotlib.pyplot as plt\n",
    "import itertools\n",
    "\n",
    "from sklearn.metrics import confusion_matrix, accuracy_score, jaccard_score"
   ]
  },
  {
   "cell_type": "code",
   "execution_count": 121,
   "metadata": {},
   "outputs": [],
   "source": [
    "def get_file_names(path):\n",
    "    files = [f for f in os.listdir(path) if os.path.isfile(os.path.join(path, f))]\n",
    "    return sorted([x for x in files if 'labels' in x])\n",
    "\n",
    "def plot_confusion_matrix(cm, target_names):\n",
    "    cmap = plt.get_cmap('Greys')\n",
    "    \n",
    "    plt.figure(figsize=(17, 8))\n",
    "    plt.imshow(cm, interpolation='nearest', cmap=cmap)\n",
    "    plt.colorbar()\n",
    "\n",
    "    if target_names is not None:\n",
    "        tick_marks = np.arange(len(target_names))\n",
    "        plt.xticks(tick_marks, target_names, rotation=0)\n",
    "        plt.yticks(tick_marks, target_names)\n",
    "\n",
    "    thresh = cm.max() / 2\n",
    "    for i, j in itertools.product(range(cm.shape[0]), range(cm.shape[1])):\n",
    "        plt.text(j, i, \"{:0.4f}%\".format(cm[i, j]*100),\n",
    "                     horizontalalignment=\"center\",\n",
    "                     color=\"white\" if cm[i, j] > thresh else \"black\")\n",
    "\n",
    "    plt.tight_layout()\n",
    "    plt.ylabel('Actual label')\n",
    "    plt.xlabel('Predicted label')\n",
    "    plt.show()"
   ]
  },
  {
   "cell_type": "code",
   "execution_count": 107,
   "metadata": {},
   "outputs": [],
   "source": [
    "ground_truth_path = './ConvPoint/examples/semantic3d/ground_truth/'"
   ]
  },
  {
   "cell_type": "code",
   "execution_count": 108,
   "metadata": {},
   "outputs": [
    {
     "data": {
      "text/plain": [
       "4480"
      ]
     },
     "execution_count": 108,
     "metadata": {},
     "output_type": "execute_result"
    }
   ],
   "source": [
    "labels_files = get_file_names(ground_truth_path)\n",
    "labels = []\n",
    "for cloud_file in labels_files:\n",
    "    with open(train_path+cloud_file) as fp:\n",
    "        labels += [int(line.split()[0]) for line in fp]\n",
    "len(labels)"
   ]
  },
  {
   "cell_type": "code",
   "execution_count": 109,
   "metadata": {},
   "outputs": [],
   "source": [
    "predictions_path = './ConvPoint/examples/semantic3d/path_to_save_dir_benchmark/'"
   ]
  },
  {
   "cell_type": "code",
   "execution_count": 110,
   "metadata": {},
   "outputs": [
    {
     "data": {
      "text/plain": [
       "4480"
      ]
     },
     "execution_count": 110,
     "metadata": {},
     "output_type": "execute_result"
    }
   ],
   "source": [
    "predictions_files = get_file_names(predictions_path)\n",
    "predictions = []\n",
    "for cloud_file in predictions_files:\n",
    "    with open(predictions_path+cloud_file) as fp:\n",
    "        predictions += [int(line.split()[0]) for line in fp]\n",
    "len(predictions)"
   ]
  },
  {
   "cell_type": "code",
   "execution_count": 111,
   "metadata": {},
   "outputs": [],
   "source": [
    "cm = confusion_matrix(labels, predictions, labels=list(range(1, 4)), normalize='true')"
   ]
  },
  {
   "cell_type": "code",
   "execution_count": null,
   "metadata": {},
   "outputs": [],
   "source": []
  },
  {
   "cell_type": "code",
   "execution_count": 123,
   "metadata": {},
   "outputs": [
    {
     "data": {
      "image/png": "[encoded data removed]",
      "text/plain": [
       "<Figure size 1224x576 with 2 Axes>"
      ]
     },
     "metadata": {
      "needs_background": "light"
     },
     "output_type": "display_data"
    }
   ],
   "source": [
    "plot_confusion_matrix(cm, ['ground', 'small_rock', 'large_rock'])"
   ]
  },
  {
   "cell_type": "code",
   "execution_count": 139,
   "metadata": {},
   "outputs": [],
   "source": [
    "l = ['M1v'+str(x) for x in list(range(1, 21))]\n",
    "l += ['M2v'+str(x) for x in list(range(1, 21))]"
   ]
  },
  {
   "cell_type": "code",
   "execution_count": 142,
   "metadata": {},
   "outputs": [
    {
     "data": {
      "text/plain": [
       "['M1v1',\n",
       " 'M1v2',\n",
       " 'M1v3',\n",
       " 'M1v4',\n",
       " 'M1v5',\n",
       " 'M1v6',\n",
       " 'M1v7',\n",
       " 'M1v8',\n",
       " 'M1v9',\n",
       " 'M1v10',\n",
       " 'M1v11',\n",
       " 'M1v12',\n",
       " 'M1v13',\n",
       " 'M1v14',\n",
       " 'M1v15',\n",
       " 'M1v16',\n",
       " 'M1v17',\n",
       " 'M1v18',\n",
       " 'M1v19',\n",
       " 'M1v20',\n",
       " 'M2v1',\n",
       " 'M2v2',\n",
       " 'M2v3',\n",
       " 'M2v4',\n",
       " 'M2v5',\n",
       " 'M2v6',\n",
       " 'M2v7',\n",
       " 'M2v8',\n",
       " 'M2v9',\n",
       " 'M2v10',\n",
       " 'M2v11',\n",
       " 'M2v12',\n",
       " 'M2v13',\n",
       " 'M2v14',\n",
       " 'M2v15',\n",
       " 'M2v16',\n",
       " 'M2v17',\n",
       " 'M2v18',\n",
       " 'M2v19',\n",
       " 'M2v20']"
      ]
     },
     "execution_count": 142,
     "metadata": {},
     "output_type": "execute_result"
    }
   ],
   "source": [
    "l"
   ]
  },
  {
   "cell_type": "code",
   "execution_count": null,
   "metadata": {},
   "outputs": [],
   "source": [
    "test_names = [x if  in l]"
   ]
  },
  {
   "cell_type": "code",
   "execution_count": null,
   "metadata": {},
   "outputs": [],
   "source": []
  },
  {
   "cell_type": "code",
   "execution_count": null,
   "metadata": {},
   "outputs": [],
   "source": []
  },
  {
   "cell_type": "code",
   "execution_count": null,
   "metadata": {},
   "outputs": [],
   "source": []
  },
  {
   "cell_type": "code",
   "execution_count": null,
   "metadata": {},
   "outputs": [],
   "source": []
  },
  {
   "cell_type": "code",
   "execution_count": null,
   "metadata": {},
   "outputs": [],
   "source": []
  },
  {
   "cell_type": "code",
   "execution_count": null,
   "metadata": {},
   "outputs": [],
   "source": []
  },
  {
   "cell_type": "code",
   "execution_count": null,
   "metadata": {},
   "outputs": [],
   "source": []
  }
 ],
 "metadata": {
  "kernelspec": {
   "display_name": "Python 3",
   "language": "python",
   "name": "python3"
  },
  "language_info": {
   "codemirror_mode": {
    "name": "ipython",
    "version": 3
   },
   "file_extension": ".py",
   "mimetype": "text/x-python",
   "name": "python",
   "nbconvert_exporter": "python",
   "pygments_lexer": "ipython3",
   "version": "3.7.2"
  }
 },
 "nbformat": 4,
 "nbformat_minor": 2
}
